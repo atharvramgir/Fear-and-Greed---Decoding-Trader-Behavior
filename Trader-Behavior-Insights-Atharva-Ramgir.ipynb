{
 "cells": [
  {
   "cell_type": "markdown",
   "id": "b2784341-af81-48ac-bb43-27413d930b53",
   "metadata": {},
   "source": [
    "# Trader Performance & Market Sentiment Analysis\n"
   ]
  },
  {
   "cell_type": "markdown",
   "id": "2e0f1b67-ddc2-44cc-9f39-3637dd23ec4b",
   "metadata": {},
   "source": [
    "## Introduction\n",
    "This project explores the relationship between trader performance and Bitcoin market sentiment (Fear/Greed). We use two datasets:\n",
    "\n",
    "Bitcoin Market Sentiment Dataset: Contains Date and Classification (Fear/Greed)\n",
    "\n",
    "Historical Trader Data from Hyperliquid: Contains trade details including account, symbol, execution price, size, side, time, closedPnL, leverage, etc."
   ]
  },
  {
   "cell_type": "code",
   "execution_count": 17,
   "id": "f19f1c0d-465a-4712-b65a-0d3f76b875e3",
   "metadata": {},
   "outputs": [],
   "source": [
    "import pandas as pd\n",
    "import numpy as np\n",
    "import matplotlib.pyplot as plt\n",
    "import seaborn as sns\n",
    "from scipy.stats import ttest_ind\n"
   ]
  },
  {
   "cell_type": "markdown",
   "id": "87ee816a-d17f-4728-9c97-44154429f369",
   "metadata": {},
   "source": [
    "## Load the Datasets"
   ]
  },
  {
   "cell_type": "code",
   "execution_count": 18,
   "id": "af6e40bd-a068-4e09-bcca-ac14d5173ffc",
   "metadata": {},
   "outputs": [],
   "source": [
    "# Load the Bitcoin Market Sentiment dataset\n",
    "sentiment_df = pd.read_csv(r\"C:\\Users\\Atharva Ramgir\\Projects\\Fear-and-Greed-- Decoding-Trader-Behavior\\historical_data.csv\")\n",
    "\n",
    "# Load the Historical Trader Data\n",
    "trader_df = pd.read_csv(r\"C:\\Users\\Atharva Ramgir\\Projects\\Fear-and-Greed-- Decoding-Trader-Behavior\\historical_data.csv\")\n"
   ]
  },
  {
   "cell_type": "markdown",
   "id": "b1747eff-7b29-4deb-8b3a-d87b51be0606",
   "metadata": {},
   "source": [
    "------\n",
    "\n",
    "## Inspect the Data"
   ]
  },
  {
   "cell_type": "markdown",
   "id": "c9767be8-d06a-4b2c-8c2f-d206f0cecf58",
   "metadata": {},
   "source": [
    "### 1. Preview the Data"
   ]
  },
  {
   "cell_type": "code",
   "execution_count": 19,
   "id": "11a94b8c-d47c-4d6a-8469-4e6be69cc4ed",
   "metadata": {},
   "outputs": [
    {
     "name": "stdout",
     "output_type": "stream",
     "text": [
      "Sentiment Data Sample:\n"
     ]
    },
    {
     "data": {
      "text/html": [
       "<div>\n",
       "<style scoped>\n",
       "    .dataframe tbody tr th:only-of-type {\n",
       "        vertical-align: middle;\n",
       "    }\n",
       "\n",
       "    .dataframe tbody tr th {\n",
       "        vertical-align: top;\n",
       "    }\n",
       "\n",
       "    .dataframe thead th {\n",
       "        text-align: right;\n",
       "    }\n",
       "</style>\n",
       "<table border=\"1\" class=\"dataframe\">\n",
       "  <thead>\n",
       "    <tr style=\"text-align: right;\">\n",
       "      <th></th>\n",
       "      <th>Account</th>\n",
       "      <th>Coin</th>\n",
       "      <th>Execution Price</th>\n",
       "      <th>Size Tokens</th>\n",
       "      <th>Size USD</th>\n",
       "      <th>Side</th>\n",
       "      <th>Timestamp IST</th>\n",
       "      <th>Start Position</th>\n",
       "      <th>Direction</th>\n",
       "      <th>Closed PnL</th>\n",
       "      <th>Transaction Hash</th>\n",
       "      <th>Order ID</th>\n",
       "      <th>Crossed</th>\n",
       "      <th>Fee</th>\n",
       "      <th>Trade ID</th>\n",
       "      <th>Timestamp</th>\n",
       "    </tr>\n",
       "  </thead>\n",
       "  <tbody>\n",
       "    <tr>\n",
       "      <th>0</th>\n",
       "      <td>0xae5eacaf9c6b9111fd53034a602c192a04e082ed</td>\n",
       "      <td>@107</td>\n",
       "      <td>7.9769</td>\n",
       "      <td>986.87</td>\n",
       "      <td>7872.16</td>\n",
       "      <td>BUY</td>\n",
       "      <td>02-12-2024 22:50</td>\n",
       "      <td>0.000000</td>\n",
       "      <td>Buy</td>\n",
       "      <td>0.0</td>\n",
       "      <td>0xec09451986a1874e3a980418412fcd0201f500c95bac...</td>\n",
       "      <td>52017706630</td>\n",
       "      <td>True</td>\n",
       "      <td>0.345404</td>\n",
       "      <td>8.950000e+14</td>\n",
       "      <td>1.730000e+12</td>\n",
       "    </tr>\n",
       "    <tr>\n",
       "      <th>1</th>\n",
       "      <td>0xae5eacaf9c6b9111fd53034a602c192a04e082ed</td>\n",
       "      <td>@107</td>\n",
       "      <td>7.9800</td>\n",
       "      <td>16.00</td>\n",
       "      <td>127.68</td>\n",
       "      <td>BUY</td>\n",
       "      <td>02-12-2024 22:50</td>\n",
       "      <td>986.524596</td>\n",
       "      <td>Buy</td>\n",
       "      <td>0.0</td>\n",
       "      <td>0xec09451986a1874e3a980418412fcd0201f500c95bac...</td>\n",
       "      <td>52017706630</td>\n",
       "      <td>True</td>\n",
       "      <td>0.005600</td>\n",
       "      <td>4.430000e+14</td>\n",
       "      <td>1.730000e+12</td>\n",
       "    </tr>\n",
       "    <tr>\n",
       "      <th>2</th>\n",
       "      <td>0xae5eacaf9c6b9111fd53034a602c192a04e082ed</td>\n",
       "      <td>@107</td>\n",
       "      <td>7.9855</td>\n",
       "      <td>144.09</td>\n",
       "      <td>1150.63</td>\n",
       "      <td>BUY</td>\n",
       "      <td>02-12-2024 22:50</td>\n",
       "      <td>1002.518996</td>\n",
       "      <td>Buy</td>\n",
       "      <td>0.0</td>\n",
       "      <td>0xec09451986a1874e3a980418412fcd0201f500c95bac...</td>\n",
       "      <td>52017706630</td>\n",
       "      <td>True</td>\n",
       "      <td>0.050431</td>\n",
       "      <td>6.600000e+14</td>\n",
       "      <td>1.730000e+12</td>\n",
       "    </tr>\n",
       "    <tr>\n",
       "      <th>3</th>\n",
       "      <td>0xae5eacaf9c6b9111fd53034a602c192a04e082ed</td>\n",
       "      <td>@107</td>\n",
       "      <td>7.9874</td>\n",
       "      <td>142.98</td>\n",
       "      <td>1142.04</td>\n",
       "      <td>BUY</td>\n",
       "      <td>02-12-2024 22:50</td>\n",
       "      <td>1146.558564</td>\n",
       "      <td>Buy</td>\n",
       "      <td>0.0</td>\n",
       "      <td>0xec09451986a1874e3a980418412fcd0201f500c95bac...</td>\n",
       "      <td>52017706630</td>\n",
       "      <td>True</td>\n",
       "      <td>0.050043</td>\n",
       "      <td>1.080000e+15</td>\n",
       "      <td>1.730000e+12</td>\n",
       "    </tr>\n",
       "    <tr>\n",
       "      <th>4</th>\n",
       "      <td>0xae5eacaf9c6b9111fd53034a602c192a04e082ed</td>\n",
       "      <td>@107</td>\n",
       "      <td>7.9894</td>\n",
       "      <td>8.73</td>\n",
       "      <td>69.75</td>\n",
       "      <td>BUY</td>\n",
       "      <td>02-12-2024 22:50</td>\n",
       "      <td>1289.488521</td>\n",
       "      <td>Buy</td>\n",
       "      <td>0.0</td>\n",
       "      <td>0xec09451986a1874e3a980418412fcd0201f500c95bac...</td>\n",
       "      <td>52017706630</td>\n",
       "      <td>True</td>\n",
       "      <td>0.003055</td>\n",
       "      <td>1.050000e+15</td>\n",
       "      <td>1.730000e+12</td>\n",
       "    </tr>\n",
       "  </tbody>\n",
       "</table>\n",
       "</div>"
      ],
      "text/plain": [
       "                                      Account  Coin  Execution Price  \\\n",
       "0  0xae5eacaf9c6b9111fd53034a602c192a04e082ed  @107           7.9769   \n",
       "1  0xae5eacaf9c6b9111fd53034a602c192a04e082ed  @107           7.9800   \n",
       "2  0xae5eacaf9c6b9111fd53034a602c192a04e082ed  @107           7.9855   \n",
       "3  0xae5eacaf9c6b9111fd53034a602c192a04e082ed  @107           7.9874   \n",
       "4  0xae5eacaf9c6b9111fd53034a602c192a04e082ed  @107           7.9894   \n",
       "\n",
       "   Size Tokens  Size USD Side     Timestamp IST  Start Position Direction  \\\n",
       "0       986.87   7872.16  BUY  02-12-2024 22:50        0.000000       Buy   \n",
       "1        16.00    127.68  BUY  02-12-2024 22:50      986.524596       Buy   \n",
       "2       144.09   1150.63  BUY  02-12-2024 22:50     1002.518996       Buy   \n",
       "3       142.98   1142.04  BUY  02-12-2024 22:50     1146.558564       Buy   \n",
       "4         8.73     69.75  BUY  02-12-2024 22:50     1289.488521       Buy   \n",
       "\n",
       "   Closed PnL                                   Transaction Hash     Order ID  \\\n",
       "0         0.0  0xec09451986a1874e3a980418412fcd0201f500c95bac...  52017706630   \n",
       "1         0.0  0xec09451986a1874e3a980418412fcd0201f500c95bac...  52017706630   \n",
       "2         0.0  0xec09451986a1874e3a980418412fcd0201f500c95bac...  52017706630   \n",
       "3         0.0  0xec09451986a1874e3a980418412fcd0201f500c95bac...  52017706630   \n",
       "4         0.0  0xec09451986a1874e3a980418412fcd0201f500c95bac...  52017706630   \n",
       "\n",
       "   Crossed       Fee      Trade ID     Timestamp  \n",
       "0     True  0.345404  8.950000e+14  1.730000e+12  \n",
       "1     True  0.005600  4.430000e+14  1.730000e+12  \n",
       "2     True  0.050431  6.600000e+14  1.730000e+12  \n",
       "3     True  0.050043  1.080000e+15  1.730000e+12  \n",
       "4     True  0.003055  1.050000e+15  1.730000e+12  "
      ]
     },
     "metadata": {},
     "output_type": "display_data"
    }
   ],
   "source": [
    "print(\"Sentiment Data Sample:\")\n",
    "display(sentiment_df.head())\n"
   ]
  },
  {
   "cell_type": "code",
   "execution_count": 20,
   "id": "74faea33-0ceb-42b9-9e18-30c9a89a5fb0",
   "metadata": {},
   "outputs": [
    {
     "name": "stdout",
     "output_type": "stream",
     "text": [
      "Trader Data Sample:\n"
     ]
    },
    {
     "data": {
      "text/html": [
       "<div>\n",
       "<style scoped>\n",
       "    .dataframe tbody tr th:only-of-type {\n",
       "        vertical-align: middle;\n",
       "    }\n",
       "\n",
       "    .dataframe tbody tr th {\n",
       "        vertical-align: top;\n",
       "    }\n",
       "\n",
       "    .dataframe thead th {\n",
       "        text-align: right;\n",
       "    }\n",
       "</style>\n",
       "<table border=\"1\" class=\"dataframe\">\n",
       "  <thead>\n",
       "    <tr style=\"text-align: right;\">\n",
       "      <th></th>\n",
       "      <th>Account</th>\n",
       "      <th>Coin</th>\n",
       "      <th>Execution Price</th>\n",
       "      <th>Size Tokens</th>\n",
       "      <th>Size USD</th>\n",
       "      <th>Side</th>\n",
       "      <th>Timestamp IST</th>\n",
       "      <th>Start Position</th>\n",
       "      <th>Direction</th>\n",
       "      <th>Closed PnL</th>\n",
       "      <th>Transaction Hash</th>\n",
       "      <th>Order ID</th>\n",
       "      <th>Crossed</th>\n",
       "      <th>Fee</th>\n",
       "      <th>Trade ID</th>\n",
       "      <th>Timestamp</th>\n",
       "    </tr>\n",
       "  </thead>\n",
       "  <tbody>\n",
       "    <tr>\n",
       "      <th>0</th>\n",
       "      <td>0xae5eacaf9c6b9111fd53034a602c192a04e082ed</td>\n",
       "      <td>@107</td>\n",
       "      <td>7.9769</td>\n",
       "      <td>986.87</td>\n",
       "      <td>7872.16</td>\n",
       "      <td>BUY</td>\n",
       "      <td>02-12-2024 22:50</td>\n",
       "      <td>0.000000</td>\n",
       "      <td>Buy</td>\n",
       "      <td>0.0</td>\n",
       "      <td>0xec09451986a1874e3a980418412fcd0201f500c95bac...</td>\n",
       "      <td>52017706630</td>\n",
       "      <td>True</td>\n",
       "      <td>0.345404</td>\n",
       "      <td>8.950000e+14</td>\n",
       "      <td>1.730000e+12</td>\n",
       "    </tr>\n",
       "    <tr>\n",
       "      <th>1</th>\n",
       "      <td>0xae5eacaf9c6b9111fd53034a602c192a04e082ed</td>\n",
       "      <td>@107</td>\n",
       "      <td>7.9800</td>\n",
       "      <td>16.00</td>\n",
       "      <td>127.68</td>\n",
       "      <td>BUY</td>\n",
       "      <td>02-12-2024 22:50</td>\n",
       "      <td>986.524596</td>\n",
       "      <td>Buy</td>\n",
       "      <td>0.0</td>\n",
       "      <td>0xec09451986a1874e3a980418412fcd0201f500c95bac...</td>\n",
       "      <td>52017706630</td>\n",
       "      <td>True</td>\n",
       "      <td>0.005600</td>\n",
       "      <td>4.430000e+14</td>\n",
       "      <td>1.730000e+12</td>\n",
       "    </tr>\n",
       "    <tr>\n",
       "      <th>2</th>\n",
       "      <td>0xae5eacaf9c6b9111fd53034a602c192a04e082ed</td>\n",
       "      <td>@107</td>\n",
       "      <td>7.9855</td>\n",
       "      <td>144.09</td>\n",
       "      <td>1150.63</td>\n",
       "      <td>BUY</td>\n",
       "      <td>02-12-2024 22:50</td>\n",
       "      <td>1002.518996</td>\n",
       "      <td>Buy</td>\n",
       "      <td>0.0</td>\n",
       "      <td>0xec09451986a1874e3a980418412fcd0201f500c95bac...</td>\n",
       "      <td>52017706630</td>\n",
       "      <td>True</td>\n",
       "      <td>0.050431</td>\n",
       "      <td>6.600000e+14</td>\n",
       "      <td>1.730000e+12</td>\n",
       "    </tr>\n",
       "    <tr>\n",
       "      <th>3</th>\n",
       "      <td>0xae5eacaf9c6b9111fd53034a602c192a04e082ed</td>\n",
       "      <td>@107</td>\n",
       "      <td>7.9874</td>\n",
       "      <td>142.98</td>\n",
       "      <td>1142.04</td>\n",
       "      <td>BUY</td>\n",
       "      <td>02-12-2024 22:50</td>\n",
       "      <td>1146.558564</td>\n",
       "      <td>Buy</td>\n",
       "      <td>0.0</td>\n",
       "      <td>0xec09451986a1874e3a980418412fcd0201f500c95bac...</td>\n",
       "      <td>52017706630</td>\n",
       "      <td>True</td>\n",
       "      <td>0.050043</td>\n",
       "      <td>1.080000e+15</td>\n",
       "      <td>1.730000e+12</td>\n",
       "    </tr>\n",
       "    <tr>\n",
       "      <th>4</th>\n",
       "      <td>0xae5eacaf9c6b9111fd53034a602c192a04e082ed</td>\n",
       "      <td>@107</td>\n",
       "      <td>7.9894</td>\n",
       "      <td>8.73</td>\n",
       "      <td>69.75</td>\n",
       "      <td>BUY</td>\n",
       "      <td>02-12-2024 22:50</td>\n",
       "      <td>1289.488521</td>\n",
       "      <td>Buy</td>\n",
       "      <td>0.0</td>\n",
       "      <td>0xec09451986a1874e3a980418412fcd0201f500c95bac...</td>\n",
       "      <td>52017706630</td>\n",
       "      <td>True</td>\n",
       "      <td>0.003055</td>\n",
       "      <td>1.050000e+15</td>\n",
       "      <td>1.730000e+12</td>\n",
       "    </tr>\n",
       "  </tbody>\n",
       "</table>\n",
       "</div>"
      ],
      "text/plain": [
       "                                      Account  Coin  Execution Price  \\\n",
       "0  0xae5eacaf9c6b9111fd53034a602c192a04e082ed  @107           7.9769   \n",
       "1  0xae5eacaf9c6b9111fd53034a602c192a04e082ed  @107           7.9800   \n",
       "2  0xae5eacaf9c6b9111fd53034a602c192a04e082ed  @107           7.9855   \n",
       "3  0xae5eacaf9c6b9111fd53034a602c192a04e082ed  @107           7.9874   \n",
       "4  0xae5eacaf9c6b9111fd53034a602c192a04e082ed  @107           7.9894   \n",
       "\n",
       "   Size Tokens  Size USD Side     Timestamp IST  Start Position Direction  \\\n",
       "0       986.87   7872.16  BUY  02-12-2024 22:50        0.000000       Buy   \n",
       "1        16.00    127.68  BUY  02-12-2024 22:50      986.524596       Buy   \n",
       "2       144.09   1150.63  BUY  02-12-2024 22:50     1002.518996       Buy   \n",
       "3       142.98   1142.04  BUY  02-12-2024 22:50     1146.558564       Buy   \n",
       "4         8.73     69.75  BUY  02-12-2024 22:50     1289.488521       Buy   \n",
       "\n",
       "   Closed PnL                                   Transaction Hash     Order ID  \\\n",
       "0         0.0  0xec09451986a1874e3a980418412fcd0201f500c95bac...  52017706630   \n",
       "1         0.0  0xec09451986a1874e3a980418412fcd0201f500c95bac...  52017706630   \n",
       "2         0.0  0xec09451986a1874e3a980418412fcd0201f500c95bac...  52017706630   \n",
       "3         0.0  0xec09451986a1874e3a980418412fcd0201f500c95bac...  52017706630   \n",
       "4         0.0  0xec09451986a1874e3a980418412fcd0201f500c95bac...  52017706630   \n",
       "\n",
       "   Crossed       Fee      Trade ID     Timestamp  \n",
       "0     True  0.345404  8.950000e+14  1.730000e+12  \n",
       "1     True  0.005600  4.430000e+14  1.730000e+12  \n",
       "2     True  0.050431  6.600000e+14  1.730000e+12  \n",
       "3     True  0.050043  1.080000e+15  1.730000e+12  \n",
       "4     True  0.003055  1.050000e+15  1.730000e+12  "
      ]
     },
     "metadata": {},
     "output_type": "display_data"
    }
   ],
   "source": [
    "\n",
    "print(\"Trader Data Sample:\")\n",
    "display(trader_df.head())\n"
   ]
  },
  {
   "cell_type": "markdown",
   "id": "7ece56c0-041b-41d1-8e80-f67d06a6a041",
   "metadata": {},
   "source": [
    "### 2. Data Structure and Missing Values"
   ]
  },
  {
   "cell_type": "code",
   "execution_count": 21,
   "id": "2c7dc831-70fd-40bc-9f6b-c2fadcd502e9",
   "metadata": {},
   "outputs": [
    {
     "name": "stdout",
     "output_type": "stream",
     "text": [
      "Sentiment Data Info:\n",
      "<class 'pandas.core.frame.DataFrame'>\n",
      "RangeIndex: 211224 entries, 0 to 211223\n",
      "Data columns (total 16 columns):\n",
      " #   Column            Non-Null Count   Dtype  \n",
      "---  ------            --------------   -----  \n",
      " 0   Account           211224 non-null  object \n",
      " 1   Coin              211224 non-null  object \n",
      " 2   Execution Price   211224 non-null  float64\n",
      " 3   Size Tokens       211224 non-null  float64\n",
      " 4   Size USD          211224 non-null  float64\n",
      " 5   Side              211224 non-null  object \n",
      " 6   Timestamp IST     211224 non-null  object \n",
      " 7   Start Position    211224 non-null  float64\n",
      " 8   Direction         211224 non-null  object \n",
      " 9   Closed PnL        211224 non-null  float64\n",
      " 10  Transaction Hash  211224 non-null  object \n",
      " 11  Order ID          211224 non-null  int64  \n",
      " 12  Crossed           211224 non-null  bool   \n",
      " 13  Fee               211224 non-null  float64\n",
      " 14  Trade ID          211224 non-null  float64\n",
      " 15  Timestamp         211224 non-null  float64\n",
      "dtypes: bool(1), float64(8), int64(1), object(6)\n",
      "memory usage: 24.4+ MB\n",
      "None\n"
     ]
    }
   ],
   "source": [
    "print(\"Sentiment Data Info:\")\n",
    "print(sentiment_df.info())\n"
   ]
  },
  {
   "cell_type": "code",
   "execution_count": 22,
   "id": "ea213759-d6cc-4c7f-8a1c-3b0a3f0867c7",
   "metadata": {},
   "outputs": [
    {
     "name": "stdout",
     "output_type": "stream",
     "text": [
      "Trader Data Info:\n",
      "<class 'pandas.core.frame.DataFrame'>\n",
      "RangeIndex: 211224 entries, 0 to 211223\n",
      "Data columns (total 16 columns):\n",
      " #   Column            Non-Null Count   Dtype  \n",
      "---  ------            --------------   -----  \n",
      " 0   Account           211224 non-null  object \n",
      " 1   Coin              211224 non-null  object \n",
      " 2   Execution Price   211224 non-null  float64\n",
      " 3   Size Tokens       211224 non-null  float64\n",
      " 4   Size USD          211224 non-null  float64\n",
      " 5   Side              211224 non-null  object \n",
      " 6   Timestamp IST     211224 non-null  object \n",
      " 7   Start Position    211224 non-null  float64\n",
      " 8   Direction         211224 non-null  object \n",
      " 9   Closed PnL        211224 non-null  float64\n",
      " 10  Transaction Hash  211224 non-null  object \n",
      " 11  Order ID          211224 non-null  int64  \n",
      " 12  Crossed           211224 non-null  bool   \n",
      " 13  Fee               211224 non-null  float64\n",
      " 14  Trade ID          211224 non-null  float64\n",
      " 15  Timestamp         211224 non-null  float64\n",
      "dtypes: bool(1), float64(8), int64(1), object(6)\n",
      "memory usage: 24.4+ MB\n",
      "None\n"
     ]
    }
   ],
   "source": [
    "print(\"Trader Data Info:\")\n",
    "print(trader_df.info())\n"
   ]
  },
  {
   "cell_type": "code",
   "execution_count": 23,
   "id": "fbc136b5-c502-487f-9475-c173e505e497",
   "metadata": {},
   "outputs": [
    {
     "name": "stdout",
     "output_type": "stream",
     "text": [
      "Missing Values in Sentiment Data:\n",
      "Account             0\n",
      "Coin                0\n",
      "Execution Price     0\n",
      "Size Tokens         0\n",
      "Size USD            0\n",
      "Side                0\n",
      "Timestamp IST       0\n",
      "Start Position      0\n",
      "Direction           0\n",
      "Closed PnL          0\n",
      "Transaction Hash    0\n",
      "Order ID            0\n",
      "Crossed             0\n",
      "Fee                 0\n",
      "Trade ID            0\n",
      "Timestamp           0\n",
      "dtype: int64\n"
     ]
    }
   ],
   "source": [
    "print(\"Missing Values in Sentiment Data:\")\n",
    "print(sentiment_df.isnull().sum())"
   ]
  },
  {
   "cell_type": "code",
   "execution_count": 24,
   "id": "7ae6fb76-6d17-42a5-b23f-54d7b5f3d0b3",
   "metadata": {},
   "outputs": [
    {
     "name": "stdout",
     "output_type": "stream",
     "text": [
      "Missing Values in Trader Data:\n",
      "Account             0\n",
      "Coin                0\n",
      "Execution Price     0\n",
      "Size Tokens         0\n",
      "Size USD            0\n",
      "Side                0\n",
      "Timestamp IST       0\n",
      "Start Position      0\n",
      "Direction           0\n",
      "Closed PnL          0\n",
      "Transaction Hash    0\n",
      "Order ID            0\n",
      "Crossed             0\n",
      "Fee                 0\n",
      "Trade ID            0\n",
      "Timestamp           0\n",
      "dtype: int64\n"
     ]
    }
   ],
   "source": [
    "print(\"Missing Values in Trader Data:\")\n",
    "print(trader_df.isnull().sum())\n"
   ]
  },
  {
   "cell_type": "markdown",
   "id": "84297e50-590d-4331-ab3b-5c43cc22394f",
   "metadata": {},
   "source": [
    "-------\n",
    "\n",
    "\n",
    "## Data Cleaning & Preprocessing"
   ]
  },
  {
   "cell_type": "markdown",
   "id": "2f5b89bc-99df-490e-ba0b-14b33c142066",
   "metadata": {},
   "source": [
    "### 1. Convert Dates to Datetime"
   ]
  },
  {
   "cell_type": "code",
   "execution_count": 25,
   "id": "918b5085-fded-4ecc-8a2a-782369277070",
   "metadata": {},
   "outputs": [
    {
     "name": "stdout",
     "output_type": "stream",
     "text": [
      "Cleaned Sentiment Columns: ['account', 'coin', 'execution price', 'size tokens', 'size usd', 'side', 'timestamp ist', 'start position', 'direction', 'closed pnl', 'transaction hash', 'order id', 'crossed', 'fee', 'trade id', 'timestamp']\n",
      "Cleaned Trader Columns: ['account', 'coin', 'execution price', 'size tokens', 'size usd', 'side', 'timestamp ist', 'start position', 'direction', 'closed pnl', 'transaction hash', 'order id', 'crossed', 'fee', 'trade id', 'timestamp']\n"
     ]
    }
   ],
   "source": [
    "# Rename columns if needed\n",
    "sentiment_df.rename(columns=lambda x: x.strip().lower(), inplace=True)\n",
    "trader_df.rename(columns=lambda x: x.strip().lower(), inplace=True)\n",
    "\n",
    "# Check for actual column names\n",
    "print(\"Cleaned Sentiment Columns:\", sentiment_df.columns.tolist())\n",
    "print(\"Cleaned Trader Columns:\", trader_df.columns.tolist())\n",
    "\n"
   ]
  },
  {
   "cell_type": "markdown",
   "id": "28466595-e3bc-40d2-9bc5-553681c6b4ef",
   "metadata": {},
   "source": [
    "### 2. Create a 'date' Column for Merging"
   ]
  },
  {
   "cell_type": "code",
   "execution_count": 26,
   "id": "aef050b3-2e97-4f80-a011-84fb97032632",
   "metadata": {},
   "outputs": [],
   "source": [
    "# Convert date columns to datetime\n",
    "sentiment_df['timestamp ist'] = pd.to_datetime(sentiment_df['timestamp ist'], errors='coerce')\n",
    "trader_df['timestamp ist'] = pd.to_datetime(trader_df['timestamp ist'], errors='coerce')\n",
    "\n",
    "# Drop rows with invalid dates\n",
    "sentiment_df.dropna(subset=['timestamp ist'], inplace=True)\n",
    "trader_df.dropna(subset=['timestamp ist'], inplace=True)"
   ]
  },
  {
   "cell_type": "markdown",
   "id": "3e735304-2c07-4b74-b4aa-f512c22c8ae5",
   "metadata": {},
   "source": [
    "## Clean & Prepare Sentiment Data"
   ]
  },
  {
   "cell_type": "code",
   "execution_count": 27,
   "id": "2599a210-6a19-4ebd-92c0-7885c623c85f",
   "metadata": {},
   "outputs": [],
   "source": [
    "# Create a 'date' column for merging\n",
    "sentiment_df['date'] = sentiment_df['timestamp ist'].dt.date\n",
    "trader_df['date'] = trader_df['timestamp ist'].dt.date\n"
   ]
  },
  {
   "cell_type": "code",
   "execution_count": 28,
   "id": "7f3fa559-baa7-469a-9de1-ecd9b5f786e3",
   "metadata": {},
   "outputs": [
    {
     "name": "stdout",
     "output_type": "stream",
     "text": [
      "Fear-Greed Dataset Columns: ['timestamp', 'value', 'classification', 'date']\n"
     ]
    }
   ],
   "source": [
    "# Load the actual Fear-Greed Index dataset\n",
    "fg_df = pd.read_csv(r\"C:\\Users\\Atharva Ramgir\\Projects\\Fear-and-Greed-- Decoding-Trader-Behavior\\fear_greed_index.csv\")\n",
    "\n",
    "# Clean column names\n",
    "fg_df.rename(columns=lambda x: x.strip().lower(), inplace=True)\n",
    "\n",
    "# Display column names to verify\n",
    "print(\"Fear-Greed Dataset Columns:\", fg_df.columns.tolist())\n",
    "\n"
   ]
  },
  {
   "cell_type": "code",
   "execution_count": 29,
   "id": "7ed158b4-c47f-4cb7-8cd9-1bcba4d322e2",
   "metadata": {},
   "outputs": [
    {
     "data": {
      "text/html": [
       "<div>\n",
       "<style scoped>\n",
       "    .dataframe tbody tr th:only-of-type {\n",
       "        vertical-align: middle;\n",
       "    }\n",
       "\n",
       "    .dataframe tbody tr th {\n",
       "        vertical-align: top;\n",
       "    }\n",
       "\n",
       "    .dataframe thead th {\n",
       "        text-align: right;\n",
       "    }\n",
       "</style>\n",
       "<table border=\"1\" class=\"dataframe\">\n",
       "  <thead>\n",
       "    <tr style=\"text-align: right;\">\n",
       "      <th></th>\n",
       "      <th>timestamp</th>\n",
       "      <th>value</th>\n",
       "      <th>classification</th>\n",
       "      <th>date</th>\n",
       "    </tr>\n",
       "  </thead>\n",
       "  <tbody>\n",
       "    <tr>\n",
       "      <th>0</th>\n",
       "      <td>1517463000</td>\n",
       "      <td>30</td>\n",
       "      <td>Fear</td>\n",
       "      <td>2018-02-01</td>\n",
       "    </tr>\n",
       "    <tr>\n",
       "      <th>1</th>\n",
       "      <td>1517549400</td>\n",
       "      <td>15</td>\n",
       "      <td>Extreme Fear</td>\n",
       "      <td>2018-02-02</td>\n",
       "    </tr>\n",
       "    <tr>\n",
       "      <th>2</th>\n",
       "      <td>1517635800</td>\n",
       "      <td>40</td>\n",
       "      <td>Fear</td>\n",
       "      <td>2018-02-03</td>\n",
       "    </tr>\n",
       "    <tr>\n",
       "      <th>3</th>\n",
       "      <td>1517722200</td>\n",
       "      <td>24</td>\n",
       "      <td>Extreme Fear</td>\n",
       "      <td>2018-02-04</td>\n",
       "    </tr>\n",
       "    <tr>\n",
       "      <th>4</th>\n",
       "      <td>1517808600</td>\n",
       "      <td>11</td>\n",
       "      <td>Extreme Fear</td>\n",
       "      <td>2018-02-05</td>\n",
       "    </tr>\n",
       "  </tbody>\n",
       "</table>\n",
       "</div>"
      ],
      "text/plain": [
       "    timestamp  value classification        date\n",
       "0  1517463000     30           Fear  2018-02-01\n",
       "1  1517549400     15   Extreme Fear  2018-02-02\n",
       "2  1517635800     40           Fear  2018-02-03\n",
       "3  1517722200     24   Extreme Fear  2018-02-04\n",
       "4  1517808600     11   Extreme Fear  2018-02-05"
      ]
     },
     "execution_count": 29,
     "metadata": {},
     "output_type": "execute_result"
    }
   ],
   "source": [
    "# Convert 'date' to datetime and extract date only\n",
    "fg_df['date'] = pd.to_datetime(fg_df['date'], errors='coerce').dt.date\n",
    "\n",
    "# Drop rows with invalid dates\n",
    "fg_df.dropna(subset=['date'], inplace=True)\n",
    "\n",
    "# Preview cleaned sentiment data\n",
    "fg_df.head()\n"
   ]
  },
  {
   "cell_type": "markdown",
   "id": "58ef572c-4243-45bb-87ff-d9751942e6f2",
   "metadata": {},
   "source": [
    "### Merge Datasets"
   ]
  },
  {
   "cell_type": "code",
   "execution_count": 30,
   "id": "3cbec0d5-64a9-4a50-b7be-24800aa61173",
   "metadata": {},
   "outputs": [
    {
     "name": "stdout",
     "output_type": "stream",
     "text": [
      "Merged Data Sample:\n"
     ]
    },
    {
     "data": {
      "text/html": [
       "<div>\n",
       "<style scoped>\n",
       "    .dataframe tbody tr th:only-of-type {\n",
       "        vertical-align: middle;\n",
       "    }\n",
       "\n",
       "    .dataframe tbody tr th {\n",
       "        vertical-align: top;\n",
       "    }\n",
       "\n",
       "    .dataframe thead th {\n",
       "        text-align: right;\n",
       "    }\n",
       "</style>\n",
       "<table border=\"1\" class=\"dataframe\">\n",
       "  <thead>\n",
       "    <tr style=\"text-align: right;\">\n",
       "      <th></th>\n",
       "      <th>timestamp ist</th>\n",
       "      <th>closed pnl</th>\n",
       "      <th>classification</th>\n",
       "    </tr>\n",
       "  </thead>\n",
       "  <tbody>\n",
       "    <tr>\n",
       "      <th>0</th>\n",
       "      <td>2024-02-12 22:50:00</td>\n",
       "      <td>0.0</td>\n",
       "      <td>Greed</td>\n",
       "    </tr>\n",
       "    <tr>\n",
       "      <th>1</th>\n",
       "      <td>2024-02-12 22:50:00</td>\n",
       "      <td>0.0</td>\n",
       "      <td>Greed</td>\n",
       "    </tr>\n",
       "    <tr>\n",
       "      <th>2</th>\n",
       "      <td>2024-02-12 22:50:00</td>\n",
       "      <td>0.0</td>\n",
       "      <td>Greed</td>\n",
       "    </tr>\n",
       "    <tr>\n",
       "      <th>3</th>\n",
       "      <td>2024-02-12 22:50:00</td>\n",
       "      <td>0.0</td>\n",
       "      <td>Greed</td>\n",
       "    </tr>\n",
       "    <tr>\n",
       "      <th>4</th>\n",
       "      <td>2024-02-12 22:50:00</td>\n",
       "      <td>0.0</td>\n",
       "      <td>Greed</td>\n",
       "    </tr>\n",
       "  </tbody>\n",
       "</table>\n",
       "</div>"
      ],
      "text/plain": [
       "        timestamp ist  closed pnl classification\n",
       "0 2024-02-12 22:50:00         0.0          Greed\n",
       "1 2024-02-12 22:50:00         0.0          Greed\n",
       "2 2024-02-12 22:50:00         0.0          Greed\n",
       "3 2024-02-12 22:50:00         0.0          Greed\n",
       "4 2024-02-12 22:50:00         0.0          Greed"
      ]
     },
     "metadata": {},
     "output_type": "display_data"
    }
   ],
   "source": [
    "# Extract date from trader timestamps\n",
    "trader_df['date'] = pd.to_datetime(trader_df['timestamp ist'], errors='coerce').dt.date\n",
    "\n",
    "# Merge on date\n",
    "merged_df = pd.merge(trader_df, fg_df[['date', 'classification']], on='date', how='left')\n",
    "\n",
    "# Check merge success\n",
    "print(\"Merged Data Sample:\")\n",
    "display(merged_df[['timestamp ist', 'closed pnl', 'classification']].head())\n"
   ]
  },
  {
   "cell_type": "markdown",
   "id": "103c3588-6384-446d-b9ed-74adc6b08ffd",
   "metadata": {},
   "source": [
    "## Exploratory Data Analysis"
   ]
  },
  {
   "cell_type": "code",
   "execution_count": 31,
   "id": "5ca18286-4269-47b6-bf92-64faa3cbba40",
   "metadata": {},
   "outputs": [
    {
     "name": "stdout",
     "output_type": "stream",
     "text": [
      "                  count        mean          std            min  25%      50%  \\\n",
      "classification                                                                  \n",
      "Extreme Fear     2326.0    1.891632    76.727713   -1430.889856  0.0  0.00000   \n",
      "Extreme Greed    5621.0  205.816345  1861.557119  -18360.670070  0.0  0.96048   \n",
      "Fear            13869.0  128.287950  1342.348497  -19841.240140  0.0  0.00000   \n",
      "Greed           11292.0   53.988003  1399.468182 -117990.104100  0.0  0.00000   \n",
      "Neutral          2756.0   27.088803   142.945889   -1032.981540  0.0  0.00000   \n",
      "\n",
      "                      75%           max  \n",
      "classification                           \n",
      "Extreme Fear     0.298102   2020.000000  \n",
      "Extreme Greed   30.153710  44223.451870  \n",
      "Fear             8.201820  71535.716740  \n",
      "Greed           13.441364  34903.817100  \n",
      "Neutral          9.267691   2979.554311  \n"
     ]
    },
    {
     "data": {
      "image/png": "[encoded data removed]",
      "text/plain": [
       "<Figure size 1000x600 with 1 Axes>"
      ]
     },
     "metadata": {},
     "output_type": "display_data"
    }
   ],
   "source": [
    "# Basic statistics\n",
    "performance_stats = merged_df.groupby('classification')['closed pnl'].describe()\n",
    "print(performance_stats)\n",
    "\n",
    "# Visualization\n",
    "plt.figure(figsize=(10, 6))\n",
    "sns.boxplot(data=merged_df, x='classification', y='closed pnl')\n",
    "plt.title('Trader Closed PnL Distribution by Market Sentiment')\n",
    "plt.xlabel('Market Sentiment')\n",
    "plt.ylabel('Closed PnL')\n",
    "plt.grid(True)\n",
    "plt.show()\n"
   ]
  },
  {
   "cell_type": "markdown",
   "id": "3f4aebce-4f06-4571-9def-8a5f776d4528",
   "metadata": {},
   "source": [
    "## Statistical Testing"
   ]
  },
  {
   "cell_type": "markdown",
   "id": "51d2e050-fbb0-4ccb-a5ec-874b4b7f5fc7",
   "metadata": {},
   "source": [
    "### T-Test: Is the Difference in PnL Significant?"
   ]
  },
  {
   "cell_type": "code",
   "execution_count": 32,
   "id": "d6fcd642-e999-485e-b461-dd1569ae0ea1",
   "metadata": {},
   "outputs": [
    {
     "name": "stdout",
     "output_type": "stream",
     "text": [
      "T-statistic: 4.2659, P-value: 0.0000\n"
     ]
    }
   ],
   "source": [
    "# Separate PnL values\n",
    "fear_pnl = merged_df[merged_df['classification'] == 'Fear']['closed pnl']\n",
    "greed_pnl = merged_df[merged_df['classification'] == 'Greed']['closed pnl']\n",
    "\n",
    "# Perform t-test\n",
    "t_stat, p_value = ttest_ind(fear_pnl, greed_pnl, equal_var=False)\n",
    "print(f\"T-statistic: {t_stat:.4f}, P-value: {p_value:.4f}\")\n"
   ]
  },
  {
   "cell_type": "markdown",
   "id": "15617498-2473-4543-9636-41cf5b25b190",
   "metadata": {},
   "source": [
    "## Conclusion \n",
    "\n",
    "This project set out to explore the relationship between trader performance and Bitcoin market sentiment—specifically, how emotions like Fear and Greed influence trading outcomes.\n",
    "\n",
    "### Key Findings\n",
    "Trader Behavior Varies with Sentiment:\n",
    "\n",
    "During periods of Fear, traders showed a higher average Closed PnL (~128.29) compared to periods of Greed (~53.99).\n",
    "\n",
    "Interestingly, Extreme Greed days had the highest average PnL (~205.82), but also exhibited significantly higher variance, indicating more volatile outcomes.\n",
    "\n",
    "### Statistical Significance:\n",
    "\n",
    "A t-test comparing PnL on Fear vs. Greed days yielded a T-statistic of 4.27 and a p-value < 0.0001, confirming that the difference in performance is statistically significant.\n",
    "\n",
    "This suggests that market sentiment is not just noise—it has a measurable impact on trading outcomes.\n",
    "\n",
    "### Distribution Insights:\n",
    "\n",
    "Most trades across all sentiment categories had a median PnL of 0, indicating that while a few trades are highly profitable, the majority are break-even or small losses.\n",
    "\n",
    "The long tail of extreme profits is more pronounced during Fear and Extreme Greed phases.\n",
    "\n",
    "\n",
    "\n"
   ]
  },
  {
   "cell_type": "markdown",
   "id": "3f2cf4e5-af79-495d-95bf-064b5a4b2381",
   "metadata": {},
   "source": [
    "## Strategic Implications\n",
    "\n",
    "### Risk Management: \n",
    "Traders and algorithmic systems can adjust leverage or position sizing based on prevailing sentiment to optimize risk-reward ratios.\n",
    "\n",
    "### Sentiment-Aware Strategies: \n",
    "Incorporating sentiment signals into trading models could enhance predictive accuracy and profitability.\n",
    "\n",
    "### Behavioral Finance Insight: \n",
    "The data supports the idea that emotional extremes in the market create inefficiencies that can be exploited.\n"
   ]
  },
  {
   "cell_type": "markdown",
   "id": "4eca9355-9884-4179-9c46-2853b1769012",
   "metadata": {},
   "source": [
    "## Final Thought\n",
    "\n",
    "This analysis demonstrates that market sentiment is more than just a psychological backdrop—it’s a quantifiable force that shapes trading behavior and outcomes. By decoding these patterns, we move one step closer to building smarter, sentiment-aware trading systems in the evolving world of Web3 finance."
   ]
  },
  {
   "cell_type": "markdown",
   "id": "5732fcfc-fad2-42d7-bff9-a8fdf91fed1a",
   "metadata": {},
   "source": [
    "## END OF THE PROJECT"
   ]
  },
  {
   "cell_type": "markdown",
   "id": "cfe7548d-2c98-44ae-9beb-748e9d2e3b96",
   "metadata": {},
   "source": [
    "------------\n",
    "\n",
    "\n",
    "\n",
    "\n",
    "### NAME: ATHARVA RAMGIR\n",
    "\n",
    "#### Trader Performance & Market Sentiment Analysis"
   ]
  },
  {
   "cell_type": "markdown",
   "id": "3f402a2c-5872-4384-ab52-d2586b49384d",
   "metadata": {},
   "source": [
    "------"
   ]
  }
 ],
 "metadata": {
  "kernelspec": {
   "display_name": "Python 3 (ipykernel)",
   "language": "python",
   "name": "python3"
  },
  "language_info": {
   "codemirror_mode": {
    "name": "ipython",
    "version": 3
   },
   "file_extension": ".py",
   "mimetype": "text/x-python",
   "name": "python",
   "nbconvert_exporter": "python",
   "pygments_lexer": "ipython3",
   "version": "3.12.3"
  }
 },
 "nbformat": 4,
 "nbformat_minor": 5
}
